{
 "cells": [
  {
   "cell_type": "code",
   "execution_count": 23,
   "metadata": {
    "collapsed": false
   },
   "outputs": [
    {
     "name": "stdout",
     "output_type": "stream",
     "text": [
      "[['', 'year', 'month', 'intent', 'police', 'sex', 'age', 'race', 'hispanic', 'place', 'education'], ['1', '2012', '01', 'Suicide', '0', 'M', '34', 'Asian/Pacific Islander', '100', 'Home', '4'], ['2', '2012', '01', 'Suicide', '0', 'F', '21', 'White', '100', 'Street', '3'], ['3', '2012', '01', 'Suicide', '0', 'M', '60', 'White', '100', 'Other specified', '4'], ['4', '2012', '02', 'Suicide', '0', 'M', '64', 'White', '100', 'Home', '4']]\n"
     ]
    }
   ],
   "source": [
    "import csv\n",
    "import datetime\n",
    "\n",
    "f = open(\"guns.csv\",\"r\")\n",
    "csvreader = csv.reader(f)\n",
    "data = list(csvreader)\n",
    "\n",
    "print(data[0:5])\n"
   ]
  },
  {
   "cell_type": "code",
   "execution_count": 24,
   "metadata": {
    "collapsed": false
   },
   "outputs": [
    {
     "name": "stdout",
     "output_type": "stream",
     "text": [
      "['', 'year', 'month', 'intent', 'police', 'sex', 'age', 'race', 'hispanic', 'place', 'education']\n",
      "[['1', '2012', '01', 'Suicide', '0', 'M', '34', 'Asian/Pacific Islander', '100', 'Home', '4'], ['2', '2012', '01', 'Suicide', '0', 'F', '21', 'White', '100', 'Street', '3'], ['3', '2012', '01', 'Suicide', '0', 'M', '60', 'White', '100', 'Other specified', '4'], ['4', '2012', '02', 'Suicide', '0', 'M', '64', 'White', '100', 'Home', '4'], ['5', '2012', '02', 'Suicide', '0', 'M', '31', 'White', '100', 'Other specified', '2']]\n"
     ]
    }
   ],
   "source": [
    "headers = data[0]\n",
    "data = data[1:]\n",
    "print(headers)\n",
    "print(data[0:5])"
   ]
  },
  {
   "cell_type": "code",
   "execution_count": 25,
   "metadata": {
    "collapsed": false
   },
   "outputs": [
    {
     "name": "stdout",
     "output_type": "stream",
     "text": [
      "{'2014': 33599, '2012': 33563, '2013': 33636}\n"
     ]
    }
   ],
   "source": [
    "years = []\n",
    "for row in data:\n",
    "    years.append(row[1])\n",
    "    \n",
    "#print(years)\n",
    "    \n",
    "year_counts = {}\n",
    "\n",
    "for val in years:\n",
    "    if val in year_counts:\n",
    "        year_counts[val] = year_counts[val] + 1\n",
    "    else:\n",
    "        year_counts[val] = 1\n",
    "\n",
    "print(year_counts)"
   ]
  },
  {
   "cell_type": "code",
   "execution_count": 26,
   "metadata": {
    "collapsed": false
   },
   "outputs": [
    {
     "name": "stdout",
     "output_type": "stream",
     "text": [
      "[datetime.datetime(2012, 1, 1, 0, 0), datetime.datetime(2012, 1, 1, 0, 0), datetime.datetime(2012, 1, 1, 0, 0), datetime.datetime(2012, 2, 1, 0, 0), datetime.datetime(2012, 2, 1, 0, 0)]\n",
      "{datetime.datetime(2012, 4, 1, 0, 0): 2795, datetime.datetime(2014, 9, 1, 0, 0): 2914, datetime.datetime(2012, 11, 1, 0, 0): 2729, datetime.datetime(2014, 5, 1, 0, 0): 2864, datetime.datetime(2013, 12, 1, 0, 0): 2765, datetime.datetime(2014, 4, 1, 0, 0): 2862, datetime.datetime(2013, 9, 1, 0, 0): 2742, datetime.datetime(2013, 3, 1, 0, 0): 2862, datetime.datetime(2013, 10, 1, 0, 0): 2808, datetime.datetime(2014, 11, 1, 0, 0): 2756, datetime.datetime(2014, 6, 1, 0, 0): 2931, datetime.datetime(2012, 9, 1, 0, 0): 2852, datetime.datetime(2013, 6, 1, 0, 0): 2920, datetime.datetime(2014, 12, 1, 0, 0): 2857, datetime.datetime(2012, 3, 1, 0, 0): 2743, datetime.datetime(2013, 7, 1, 0, 0): 3079, datetime.datetime(2012, 5, 1, 0, 0): 2999, datetime.datetime(2013, 8, 1, 0, 0): 2859, datetime.datetime(2014, 3, 1, 0, 0): 2684, datetime.datetime(2013, 1, 1, 0, 0): 2864, datetime.datetime(2014, 10, 1, 0, 0): 2865, datetime.datetime(2014, 1, 1, 0, 0): 2651, datetime.datetime(2014, 7, 1, 0, 0): 2884, datetime.datetime(2013, 5, 1, 0, 0): 2806, datetime.datetime(2012, 2, 1, 0, 0): 2357, datetime.datetime(2014, 2, 1, 0, 0): 2361, datetime.datetime(2013, 11, 1, 0, 0): 2758, datetime.datetime(2012, 12, 1, 0, 0): 2791, datetime.datetime(2013, 2, 1, 0, 0): 2375, datetime.datetime(2012, 6, 1, 0, 0): 2826, datetime.datetime(2012, 1, 1, 0, 0): 2758, datetime.datetime(2012, 8, 1, 0, 0): 2954, datetime.datetime(2013, 4, 1, 0, 0): 2798, datetime.datetime(2014, 8, 1, 0, 0): 2970, datetime.datetime(2012, 10, 1, 0, 0): 2733, datetime.datetime(2012, 7, 1, 0, 0): 3026}\n"
     ]
    }
   ],
   "source": [
    "dates = []\n",
    "for row in data:\n",
    "    date = datetime.datetime(year=int(row[1]),month=int(row[2]),day=1)\n",
    "    dates.append(date)\n",
    "\n",
    "print(dates[0:5])\n",
    "\n",
    "date_counts = {}\n",
    "\n",
    "for val in dates:\n",
    "    if val in date_counts:\n",
    "        date_counts[val] = date_counts[val] + 1\n",
    "    else:\n",
    "        date_counts[val] = 1\n",
    "\n",
    "print(date_counts)"
   ]
  },
  {
   "cell_type": "code",
   "execution_count": 27,
   "metadata": {
    "collapsed": false
   },
   "outputs": [],
   "source": [
    "sex_counts = {}\n",
    "for row in data:\n",
    "    if row[5] in sex_counts:\n",
    "        sex_counts[row[5]] = sex_counts[row[5]] + 1\n",
    "    else:\n",
    "        sex_counts[row[5]] = 1\n",
    "    \n",
    "race_counts = {}\n",
    "for row in data:\n",
    "    if row[7] in race_counts:\n",
    "        race_counts[row[7]] = race_counts[row[7]] + 1\n",
    "    else:\n",
    "        race_counts[row[7]] = 1\n",
    "#print(race_counts)"
   ]
  },
  {
   "cell_type": "markdown",
   "metadata": {},
   "source": [
    "Till here we have found the count of race, sex and date from the data"
   ]
  },
  {
   "cell_type": "markdown",
   "metadata": {},
   "source": [
    "We have to examine if the gun deaths are disproportinately higher among certain age group, race and whether there is a correlation betwen them. Also it would be good to examine frequency of gun deaths during certain periods of the year."
   ]
  },
  {
   "cell_type": "code",
   "execution_count": 28,
   "metadata": {
    "collapsed": false
   },
   "outputs": [
    {
     "name": "stdout",
     "output_type": "stream",
     "text": [
      "[['Id', 'Year', 'Id', 'Sex', 'Id', 'Hispanic Origin', 'Id', 'Id2', 'Geography', 'Total', 'Race Alone - White', 'Race Alone - Hispanic', 'Race Alone - Black or African American', 'Race Alone - American Indian and Alaska Native', 'Race Alone - Asian', 'Race Alone - Native Hawaiian and Other Pacific Islander', 'Two or More Races'], ['cen42010', 'April 1, 2010 Census', 'totsex', 'Both Sexes', 'tothisp', 'Total', '0100000US', '', 'United States', '308745538', '197318956', '44618105', '40250635', '3739506', '15159516', '674625', '6984195']]\n"
     ]
    }
   ],
   "source": [
    "#reading census data\n",
    "fc = open(\"census.csv\",\"r\")\n",
    "census = list(csv.reader(fc))\n",
    "print(census)"
   ]
  },
  {
   "cell_type": "code",
   "execution_count": 30,
   "metadata": {
    "collapsed": false
   },
   "outputs": [
    {
     "name": "stdout",
     "output_type": "stream",
     "text": [
      "{'Native American/Native Alaskan': 24.521955573811088, 'Hispanic': 20.220491210910907, 'Asian/Pacific Islander': 8.746980714890115e-06, 'White': 33.56849303419181, 'Black': 57.8773477735196}\n"
     ]
    }
   ],
   "source": [
    "mapping = {}\n",
    "censusData = census[1]\n",
    "mapping[\"Asian/Pacific Islander\"] = censusData[14] + censusData[15]\n",
    "mapping[\"Black\"] = censusData[12]\n",
    "mapping[\"Native American/Native Alaskan\"] = censusData[13]\n",
    "mapping[\"Hispanic\"] = censusData[11]\n",
    "mapping[\"White\"] = censusData[10]\n",
    "\n",
    "race_per_hundredk = {}\n",
    "\n",
    "for key,val in  race_counts.items():\n",
    "    raceTotal = mapping[key]\n",
    "    num = int(val)/int(raceTotal)\n",
    "    num = num*100000\n",
    "    race_per_hundredk[key] = num\n",
    "\n",
    "print(race_per_hundredk)"
   ]
  },
  {
   "cell_type": "code",
   "execution_count": 37,
   "metadata": {
    "collapsed": false
   },
   "outputs": [
    {
     "name": "stdout",
     "output_type": "stream",
     "text": [
      "{'Native American/Native Alaskan': 0.026741500080491917, 'Hispanic': 0.004482485305012393, 'Asian/Pacific Islander': 1.3193032752473777e-08, 'Black': 0.04968865708578262, 'White': 0.0010135873615710798}\n"
     ]
    }
   ],
   "source": [
    "intents = []\n",
    "for row in data:\n",
    "    intents.append(row[3])\n",
    "\n",
    "races = []\n",
    "\n",
    "for row in data:\n",
    "    races.append(row[7])\n",
    "\n",
    "homicide_race_per_hundredk = {}\n",
    "\n",
    "for key, val in enumerate(races):\n",
    "    if intents[key]=='Homicide':\n",
    "        homicide_race_per_hundredk[val] = homicide_race_per_hundredk[val] +1\n",
    "    else:\n",
    "        homicide_race_per_hundredk[val] = 1\n",
    "\n",
    "for key,val in  homicide_race_per_hundredk.items():\n",
    "    raceTotal = mapping[key]\n",
    "    num = int(val)/int(raceTotal)\n",
    "    num = num*100000\n",
    "    homicide_race_per_hundredk[key] = num\n",
    "\n",
    "print(homicide_race_per_hundredk)"
   ]
  },
  {
   "cell_type": "markdown",
   "metadata": {},
   "source": [
    "What is surprisig from the data analysis is that, even though the gun related deaths among asians is low when overall gun deaths is taken. But, when the cause is narrowed down to homicide related gundeaths, the as"
   ]
  },
  {
   "cell_type": "code",
   "execution_count": null,
   "metadata": {
    "collapsed": true
   },
   "outputs": [],
   "source": []
  },
  {
   "cell_type": "code",
   "execution_count": null,
   "metadata": {
    "collapsed": true
   },
   "outputs": [],
   "source": []
  },
  {
   "cell_type": "code",
   "execution_count": null,
   "metadata": {
    "collapsed": true
   },
   "outputs": [],
   "source": []
  },
  {
   "cell_type": "code",
   "execution_count": null,
   "metadata": {
    "collapsed": true
   },
   "outputs": [],
   "source": []
  },
  {
   "cell_type": "code",
   "execution_count": null,
   "metadata": {
    "collapsed": true
   },
   "outputs": [],
   "source": []
  },
  {
   "cell_type": "code",
   "execution_count": null,
   "metadata": {
    "collapsed": true
   },
   "outputs": [],
   "source": []
  },
  {
   "cell_type": "code",
   "execution_count": null,
   "metadata": {
    "collapsed": true
   },
   "outputs": [],
   "source": []
  },
  {
   "cell_type": "code",
   "execution_count": null,
   "metadata": {
    "collapsed": true
   },
   "outputs": [],
   "source": []
  },
  {
   "cell_type": "code",
   "execution_count": null,
   "metadata": {
    "collapsed": true
   },
   "outputs": [],
   "source": []
  },
  {
   "cell_type": "code",
   "execution_count": null,
   "metadata": {
    "collapsed": true
   },
   "outputs": [],
   "source": []
  },
  {
   "cell_type": "code",
   "execution_count": null,
   "metadata": {
    "collapsed": true
   },
   "outputs": [],
   "source": []
  },
  {
   "cell_type": "code",
   "execution_count": null,
   "metadata": {
    "collapsed": true
   },
   "outputs": [],
   "source": []
  },
  {
   "cell_type": "code",
   "execution_count": null,
   "metadata": {
    "collapsed": true
   },
   "outputs": [],
   "source": []
  },
  {
   "cell_type": "code",
   "execution_count": null,
   "metadata": {
    "collapsed": true
   },
   "outputs": [],
   "source": []
  },
  {
   "cell_type": "code",
   "execution_count": null,
   "metadata": {
    "collapsed": true
   },
   "outputs": [],
   "source": []
  },
  {
   "cell_type": "code",
   "execution_count": null,
   "metadata": {
    "collapsed": true
   },
   "outputs": [],
   "source": []
  }
 ],
 "metadata": {
  "kernelspec": {
   "display_name": "Python 3",
   "language": "python",
   "name": "python3"
  },
  "language_info": {
   "codemirror_mode": {
    "name": "ipython",
    "version": 3
   },
   "file_extension": ".py",
   "mimetype": "text/x-python",
   "name": "python",
   "nbconvert_exporter": "python",
   "pygments_lexer": "ipython3",
   "version": "3.4.3"
  }
 },
 "nbformat": 4,
 "nbformat_minor": 0
}
